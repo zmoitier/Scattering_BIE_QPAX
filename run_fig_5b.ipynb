{
 "cells": [
  {
   "cell_type": "markdown",
   "metadata": {},
   "source": [
    "# Code to produce figure 5b\n",
    "\n",
    "### Zoïs Moitier (2021)\n",
    "            \n",
    "_Karlsruhe Institute of Technology, Germany_"
   ]
  },
  {
   "cell_type": "code",
   "execution_count": 1,
   "metadata": {},
   "outputs": [],
   "source": [
    "import matplotlib.pyplot as plt\n",
    "import numpy as np\n",
    "import seaborn as sns\n",
    "from matplotlib.colors import LogNorm\n",
    "\n",
    "import Analytic\n",
    "import BIE\n",
    "import Plot\n",
    "\n",
    "%matplotlib inline"
   ]
  },
  {
   "cell_type": "markdown",
   "metadata": {},
   "source": [
    "## Internal plotting functions"
   ]
  },
  {
   "cell_type": "code",
   "execution_count": 2,
   "metadata": {},
   "outputs": [],
   "source": [
    "def calc_err(result, u_ana, u_max):\n",
    "    return np.abs(result[0] - u_ana).max() / u_max"
   ]
  },
  {
   "cell_type": "code",
   "execution_count": 3,
   "metadata": {},
   "outputs": [],
   "source": [
    "def plot_err(α, k, M, N_vec, ε_vec, type_solver, type_inc, m):\n",
    "    if type_solver.startswith(\"pqr\"):\n",
    "        solver = lambda E, trace, N, ε: BIE.helmholtz_pqr(E, k, trace, N)\n",
    "\n",
    "    if type_solver.startswith(\"mpqr\"):\n",
    "        solver = lambda E, trace, N, ε: BIE.helmholtz_mpqr(E, k, trace, N, ε)\n",
    "\n",
    "    if type_solver.startswith(\"qpax\"):\n",
    "        solver = lambda E, trace, N, ε: BIE.helmholtz_qpax(ε, k, trace, N)\n",
    "\n",
    "    err = np.empty((nb_ε, nb_N))\n",
    "\n",
    "    for i, ε in enumerate(ε_vec):\n",
    "        E = BIE.ellipse(ε)\n",
    "        c, ξ0 = Analytic.ellipse_param(1, ε)\n",
    "\n",
    "        if type_inc.startswith(\"ful\"):\n",
    "            in_field = Analytic.field_plane_wave(α, k, c, m)\n",
    "\n",
    "        if type_inc.startswith(\"eve\"):\n",
    "            in_field = Analytic.create_field(\n",
    "                c, k, [[(m, 1)], [], [], []], [[], [], [], []]\n",
    "            )\n",
    "\n",
    "        if type_inc.startswith(\"odd\"):\n",
    "            in_field = Analytic.create_field(\n",
    "                c, k, [[], [], [], []], [[(m, 1)], [], [], []]\n",
    "            )\n",
    "\n",
    "        if type_solver.startswith(\"qpax\"):\n",
    "            trace = Analytic.expansion_trace(in_field)\n",
    "        else:\n",
    "\n",
    "            def trace(x, y):\n",
    "                ξ, η = Analytic.to_elliptic(c, x, y)\n",
    "                return Analytic.eval_field(in_field, ξ, η)\n",
    "\n",
    "        sc_field = Analytic.solve_field(in_field, ξ0, 1)\n",
    "\n",
    "        for j, N in enumerate(N_vec):\n",
    "            θ, _ = BIE.grid(N)\n",
    "            x, y = ε * np.cos(θ), np.sin(θ)\n",
    "            ξ, η = Analytic.to_elliptic(c, x, y)\n",
    "            u_ana = Analytic.eval_field(sc_field, ξ, η) + Analytic.eval_field(\n",
    "                in_field, ξ, η\n",
    "            )\n",
    "            u_max = np.abs(u_ana).max()\n",
    "\n",
    "            err[i, j] = calc_err(solver(E, trace, N, ε), u_ana, u_max)\n",
    "\n",
    "    fig_size = [1.25 * e for e in [6.4, 4.8]]\n",
    "    fig, ax = plt.subplots(figsize=fig_size, constrained_layout=True)\n",
    "\n",
    "    log_norm_err = LogNorm(err.min(), err.max())\n",
    "    sns.heatmap(\n",
    "        err,\n",
    "        ax=ax,\n",
    "        cmap=\"YlGnBu_r\",\n",
    "        norm=log_norm_err,\n",
    "        xticklabels=N_vec,\n",
    "        yticklabels=ε_str,\n",
    "    )\n",
    "    ax.set_xlabel(r\"$N$\", fontsize=15)\n",
    "    ax.set_ylabel(r\"$\\varepsilon$\", fontsize=15)\n",
    "    ax.set_title(\"Relative error\", fontsize=15)\n",
    "\n",
    "    return None"
   ]
  },
  {
   "cell_type": "markdown",
   "metadata": {},
   "source": [
    "## Parameters"
   ]
  },
  {
   "cell_type": "code",
   "execution_count": 4,
   "metadata": {},
   "outputs": [],
   "source": [
    "## Incident field parameters\n",
    "α = 0  # (cos(α), sin(α)) direction of the plane wave\n",
    "k = 2  # wavenumber direction of the plane wave\n",
    "M = 15  # 2M+1 number of mode in the analytic sum"
   ]
  },
  {
   "cell_type": "code",
   "execution_count": 5,
   "metadata": {},
   "outputs": [],
   "source": [
    "## Discretization parameters\n",
    "N_min, N_max = 16, 512\n",
    "nb_N = 8\n",
    "N_vec = Plot.logspace_quadrature(N_min, N_max, nb_N)\n",
    "\n",
    "ε_min, ε_max = 1e-8, 0.9\n",
    "nb_ε = 8\n",
    "ε_vec, ε_str = Plot.logspace_epsilon(ε_min, ε_max, nb_ε)"
   ]
  },
  {
   "cell_type": "markdown",
   "metadata": {},
   "source": [
    "## Relative error for QPAX"
   ]
  },
  {
   "cell_type": "code",
   "execution_count": 6,
   "metadata": {},
   "outputs": [
    {
     "data": {
      "image/png": "[encoded data removed]",
      "text/plain": [
       "<Figure size 576x432 with 2 Axes>"
      ]
     },
     "metadata": {
      "needs_background": "light"
     },
     "output_type": "display_data"
    }
   ],
   "source": [
    "plot_err(α, k, M, N_vec, ε_vec, \"qpax\", \"full\", 15)"
   ]
  },
  {
   "cell_type": "markdown",
   "metadata": {},
   "source": [
    "## Relative error for PQR"
   ]
  },
  {
   "cell_type": "code",
   "execution_count": 7,
   "metadata": {},
   "outputs": [
    {
     "data": {
      "image/png": "[encoded data removed]",
      "text/plain": [
       "<Figure size 576x432 with 2 Axes>"
      ]
     },
     "metadata": {
      "needs_background": "light"
     },
     "output_type": "display_data"
    }
   ],
   "source": [
    "plot_err(α, k, M, N_vec, ε_vec, \"pqr\", \"full\", 15)"
   ]
  }
 ],
 "metadata": {
  "kernelspec": {
   "display_name": "Python 3",
   "language": "python",
   "name": "python3"
  },
  "language_info": {
   "codemirror_mode": {
    "name": "ipython",
    "version": 3
   },
   "file_extension": ".py",
   "mimetype": "text/x-python",
   "name": "python",
   "nbconvert_exporter": "python",
   "pygments_lexer": "ipython3",
   "version": "3.8.6"
  }
 },
 "nbformat": 4,
 "nbformat_minor": 4
}
