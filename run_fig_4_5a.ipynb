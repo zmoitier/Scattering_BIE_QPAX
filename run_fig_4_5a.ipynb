{
 "cells": [
  {
   "cell_type": "markdown",
   "metadata": {},
   "source": [
    "# Code to produce figure 4 and 5a\n",
    "\n",
    "### Zoïs Moitier (2021)\n",
    "            \n",
    "_Karlsruhe Institute of Technology, Germany_"
   ]
  },
  {
   "cell_type": "code",
   "execution_count": 1,
   "metadata": {},
   "outputs": [],
   "source": [
    "import matplotlib.pyplot as plt\n",
    "import numpy as np\n",
    "from ipywidgets import fixed, interact, widgets\n",
    "\n",
    "import Analytic\n",
    "import BIE\n",
    "\n",
    "%matplotlib inline"
   ]
  },
  {
   "cell_type": "markdown",
   "metadata": {},
   "source": [
    "## Parameters"
   ]
  },
  {
   "cell_type": "code",
   "execution_count": 2,
   "metadata": {},
   "outputs": [],
   "source": [
    "## Incident field parameters\n",
    "α = 0  # (cos(α), sin(α)) direction of the plane wave\n",
    "k = 2  # wavenumber direction of the plane wave"
   ]
  },
  {
   "cell_type": "code",
   "execution_count": 3,
   "metadata": {},
   "outputs": [],
   "source": [
    "## Discretization parameters\n",
    "N = 64  # Number of quadrature points\n",
    "nb_ε = 16  # Number of ε\n",
    "ε_min, ε_max = 1e-8, 0.9  # Limits for ε"
   ]
  },
  {
   "cell_type": "markdown",
   "metadata": {},
   "source": [
    "## Internal plotting functions"
   ]
  },
  {
   "cell_type": "code",
   "execution_count": 4,
   "metadata": {},
   "outputs": [],
   "source": [
    "def calc_err(result, u_ana, u_max):\n",
    "    return np.abs(result[0] - u_ana).max() / u_max"
   ]
  },
  {
   "cell_type": "code",
   "execution_count": 5,
   "metadata": {},
   "outputs": [],
   "source": [
    "def plot_err(type_field, m, slope):\n",
    "    ε_vec = np.geomspace(ε_min, ε_max, num=nb_ε)\n",
    "    θ, _ = BIE.grid(N)\n",
    "\n",
    "    err_pqr = np.zeros(nb_ε)\n",
    "    err_mpqr = np.zeros(nb_ε)\n",
    "    err_qpax = np.zeros(nb_ε)\n",
    "\n",
    "    for i, ε in enumerate(ε_vec):\n",
    "        E = BIE.ellipse(ε)\n",
    "        c, ξ0 = Analytic.ellipse_param(1, ε)\n",
    "\n",
    "        x, y = ε * np.cos(θ), np.sin(θ)\n",
    "        ξ, η = Analytic.to_elliptic(c, x, y)\n",
    "\n",
    "        if type_field.startswith(\"eve\"):\n",
    "            in_field = Analytic.create_field(\n",
    "                c, k, [[(m, 1)], [], [], []], [[], [], [], []]\n",
    "            )\n",
    "        if type_field.startswith(\"odd\"):\n",
    "            in_field = Analytic.create_field(\n",
    "                c, k, [[], [], [], []], [[(m, 1)], [], [], []]\n",
    "            )\n",
    "\n",
    "        if type_field.startswith(\"ful\"):\n",
    "            in_field = Analytic.field_plane_wave(α, k, c, m)\n",
    "\n",
    "        def trace(x, y):\n",
    "            ξ, η = Analytic.to_elliptic(c, x, y)\n",
    "            return Analytic.eval_field(in_field, ξ, η)\n",
    "\n",
    "        sc_field = Analytic.solve_field(in_field, ξ0, 1)\n",
    "\n",
    "        u_ana = Analytic.eval_field(sc_field, ξ, η) + Analytic.eval_field(\n",
    "            in_field, ξ, η\n",
    "        )\n",
    "        u_max = np.abs(u_ana).max()\n",
    "\n",
    "        err_pqr[i] = calc_err(BIE.helmholtz_pqr(E, k, trace, N), u_ana, u_max)\n",
    "        err_mpqr[i] = calc_err(BIE.helmholtz_mpqr(E, k, trace, N, ε), u_ana, u_max)\n",
    "        err_qpax[i] = calc_err(\n",
    "            BIE.helmholtz_qpax(ε, k, Analytic.expansion_trace(in_field), N),\n",
    "            u_ana,\n",
    "            u_max,\n",
    "        )\n",
    "\n",
    "    fig_size = [1.25 * e for e in [6.4, 4.8]]\n",
    "    fig, ax = plt.subplots(figsize=fig_size, constrained_layout=True)\n",
    "\n",
    "    ax.loglog(ε_vec, err_pqr, \"o\", ls=\"solid\", label=\"PTR\")\n",
    "    ax.loglog(ε_vec, err_mpqr, \"P\", ls=\"dashdot\", label=\"MTR\")\n",
    "    ax.loglog(ε_vec, err_qpax, \"X\", ls=\"dashed\", label=\"QPAX\")\n",
    "\n",
    "    if slope[0]:\n",
    "        ε_ = np.array([1e-8, 1e-3])\n",
    "        ax.loglog(ε_, 10 ** (-0.5) * ε_, \"k\", label=r\"$\\mathcal{O}(\\varepsilon)$\")\n",
    "\n",
    "    if slope[1]:\n",
    "        ε_ = np.array([1e-5, 1e-3])\n",
    "        ax.loglog(ε_, ε_ ** 2, \"k--\", label=r\"$\\mathcal{O}(\\varepsilon^2)$\")\n",
    "\n",
    "    ax.set_xlim(1e-8 / 10 ** 0.5, 1 * 10 ** 0.5)\n",
    "    ax.set_xlabel(r\"$\\varepsilon$\", fontsize=15)\n",
    "    ax.set_ylim(1e-16 / 10, 10)\n",
    "    ax.set_ylabel(\"error relative\", fontsize=15)\n",
    "    ax.grid(True)\n",
    "\n",
    "    ax.legend(loc=4, fontsize=15)\n",
    "    ax.set_title(f\"Number of quadrature points 2N = {N}\", fontsize=15)\n",
    "\n",
    "    return None"
   ]
  },
  {
   "cell_type": "markdown",
   "metadata": {},
   "source": [
    "## Relative error for even solution"
   ]
  },
  {
   "cell_type": "code",
   "execution_count": 6,
   "metadata": {},
   "outputs": [
    {
     "data": {
      "application/vnd.jupyter.widget-view+json": {
       "model_id": "858fb195496a4d4aad7261caa36a7bff",
       "version_major": 2,
       "version_minor": 0
      },
      "text/plain": [
       "interactive(children=(IntSlider(value=3, description='m', max=7), Output()), _dom_classes=('widget-interact',)…"
      ]
     },
     "metadata": {},
     "output_type": "display_data"
    }
   ],
   "source": [
    "interact(\n",
    "    plot_err,\n",
    "    type_field=fixed(\"even\"),\n",
    "    m=widgets.IntSlider(value=3, min=0, max=7, step=1, description=\"m\"),\n",
    "    slope=fixed((True, True)),\n",
    ");"
   ]
  },
  {
   "cell_type": "markdown",
   "metadata": {},
   "source": [
    "## Relative error for odd solution"
   ]
  },
  {
   "cell_type": "code",
   "execution_count": 7,
   "metadata": {},
   "outputs": [
    {
     "data": {
      "application/vnd.jupyter.widget-view+json": {
       "model_id": "bc3b9790d30b4eacbb0eec921654aa62",
       "version_major": 2,
       "version_minor": 0
      },
      "text/plain": [
       "interactive(children=(IntSlider(value=2, description='m', max=7, min=1), Output()), _dom_classes=('widget-inte…"
      ]
     },
     "metadata": {},
     "output_type": "display_data"
    }
   ],
   "source": [
    "interact(\n",
    "    plot_err,\n",
    "    type_field=fixed(\"odd\"),\n",
    "    m=widgets.IntSlider(value=2, min=1, max=7, step=1, description=\"m\"),\n",
    "    slope=fixed((True, False)),\n",
    ");"
   ]
  },
  {
   "cell_type": "markdown",
   "metadata": {},
   "source": [
    "## Relative error for the full wave"
   ]
  },
  {
   "cell_type": "code",
   "execution_count": 8,
   "metadata": {},
   "outputs": [
    {
     "data": {
      "image/png": "[encoded data removed]",
      "text/plain": [
       "<Figure size 576x432 with 1 Axes>"
      ]
     },
     "metadata": {
      "needs_background": "light"
     },
     "output_type": "display_data"
    }
   ],
   "source": [
    "plot_err(\"full\", 15, (True, False))"
   ]
  }
 ],
 "metadata": {
  "kernelspec": {
   "display_name": "Python 3",
   "language": "python",
   "name": "python3"
  },
  "language_info": {
   "codemirror_mode": {
    "name": "ipython",
    "version": 3
   },
   "file_extension": ".py",
   "mimetype": "text/x-python",
   "name": "python",
   "nbconvert_exporter": "python",
   "pygments_lexer": "ipython3",
   "version": "3.8.6"
  }
 },
 "nbformat": 4,
 "nbformat_minor": 4
}
