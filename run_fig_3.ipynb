{
 "cells": [
  {
   "cell_type": "markdown",
   "metadata": {},
   "source": [
    "# Code to produce figure 3\n",
    "\n",
    "### Zoïs Moitier (2021)\n",
    "            \n",
    "_Karlsruhe Institute of Technology, Germany_"
   ]
  },
  {
   "cell_type": "code",
   "execution_count": 1,
   "metadata": {},
   "outputs": [],
   "source": [
    "import matplotlib.pyplot as plt\n",
    "import numpy as np\n",
    "from ipywidgets import fixed, interact, widgets\n",
    "\n",
    "import Analytic\n",
    "import BIE\n",
    "\n",
    "%matplotlib inline"
   ]
  },
  {
   "cell_type": "markdown",
   "metadata": {},
   "source": [
    "## Parameters"
   ]
  },
  {
   "cell_type": "code",
   "execution_count": 2,
   "metadata": {},
   "outputs": [],
   "source": [
    "## Discretization parameters\n",
    "N = 64  # Number of quadrature points\n",
    "nb_ε = 16  # Number of ε\n",
    "ε_min, ε_max = 1e-8, 0.9  # Limits for ε"
   ]
  },
  {
   "cell_type": "markdown",
   "metadata": {},
   "source": [
    "## Internal plotting functions"
   ]
  },
  {
   "cell_type": "code",
   "execution_count": 3,
   "metadata": {},
   "outputs": [],
   "source": [
    "def calc_err(result, sol):\n",
    "    sol_num = sol(result[2])\n",
    "    return np.abs(result[0] - sol_num).max() / np.abs(sol_num).max()"
   ]
  },
  {
   "cell_type": "code",
   "execution_count": 4,
   "metadata": {},
   "outputs": [],
   "source": [
    "def plot_err(even_odd, m, slope):\n",
    "    ε_vec = np.geomspace(ε_min, ε_max, num=nb_ε)\n",
    "\n",
    "    err_ptr = np.zeros(nb_ε)\n",
    "    err_mtr = np.zeros(nb_ε)\n",
    "    err_qpax = np.zeros(nb_ε)\n",
    "\n",
    "    for i, ε in enumerate(ε_vec):\n",
    "        E = BIE.ellipse(ε)\n",
    "\n",
    "        if even_odd.startswith(\"eve\"):\n",
    "            trace, sol = Analytic.laplace_sol_eve(m, ε)\n",
    "            trace_ev_od = (trace, None)\n",
    "\n",
    "        if even_odd.startswith(\"odd\"):\n",
    "            trace, sol = Analytic.laplace_sol_odd(m, ε)\n",
    "            trace_ev_od = (None, trace)\n",
    "\n",
    "        err_ptr[i] = calc_err(BIE.laplace_ptr(E, trace, N), sol)\n",
    "        err_mtr[i] = calc_err(BIE.laplace_mtr(E, trace, N, ε), sol)\n",
    "        err_qpax[i] = calc_err(BIE.laplace_qpax(ε, trace_ev_od, N), sol)\n",
    "\n",
    "    fig_size = [1.25 * e for e in [6.4, 4.8]]\n",
    "    fig, ax = plt.subplots(figsize=fig_size, constrained_layout=True)\n",
    "\n",
    "    ax.loglog(ε_vec, err_ptr, \"o\", ls=\"solid\", label=\"PTR\")\n",
    "    ax.loglog(ε_vec, err_mtr, \"P\", ls=\"dashdot\", label=\"MTR\")\n",
    "    ax.loglog(ε_vec, err_qpax, \"X\", ls=\"dashed\", label=\"QPAX\")\n",
    "\n",
    "    if slope[0]:\n",
    "        ε_ = np.array([1e-8, 1e-3])\n",
    "        ax.loglog(ε_, 10 ** (-0.5) * ε_, \"k\", label=r\"$\\mathcal{O}(\\varepsilon)$\")\n",
    "\n",
    "    if slope[1]:\n",
    "        ε_ = np.array([1e-5, 1e-3])\n",
    "        ax.loglog(ε_, ε_ ** 3, \"k--\", label=r\"$\\mathcal{O}(\\varepsilon^3)$\")\n",
    "\n",
    "    ax.set_xlim(1e-8 / 10 ** 0.5, 1 * 10 ** 0.5)\n",
    "    ax.set_xlabel(r\"$\\varepsilon$\", fontsize=15)\n",
    "    ax.set_ylim(1e-16 / 10, 10)\n",
    "    ax.set_ylabel(\"error relative\", fontsize=15)\n",
    "    ax.grid(True)\n",
    "\n",
    "    ax.legend(loc=4, fontsize=15)\n",
    "    ax.set_title(f\"Number of quadrature points 2N = {N}\", fontsize=15)\n",
    "\n",
    "    return None"
   ]
  },
  {
   "cell_type": "markdown",
   "metadata": {},
   "source": [
    "## Relative error for even solution"
   ]
  },
  {
   "cell_type": "code",
   "execution_count": 5,
   "metadata": {},
   "outputs": [
    {
     "data": {
      "application/vnd.jupyter.widget-view+json": {
       "model_id": "b6df5f0e1686435f8ee7881c57c17455",
       "version_major": 2,
       "version_minor": 0
      },
      "text/plain": [
       "interactive(children=(IntSlider(value=4, description='m', max=15), Output()), _dom_classes=('widget-interact',…"
      ]
     },
     "metadata": {},
     "output_type": "display_data"
    }
   ],
   "source": [
    "interact(\n",
    "    plot_err,\n",
    "    even_odd=fixed(\"even\"),\n",
    "    m=widgets.IntSlider(value=4, min=0, max=15, step=1, description=\"m\"),\n",
    "    slope=fixed((True, True)),\n",
    ");"
   ]
  },
  {
   "cell_type": "markdown",
   "metadata": {},
   "source": [
    "## Relative error for odd solution"
   ]
  },
  {
   "cell_type": "code",
   "execution_count": 6,
   "metadata": {},
   "outputs": [
    {
     "data": {
      "application/vnd.jupyter.widget-view+json": {
       "model_id": "0485c4d450b04ae6aba01b6a5fdd7e15",
       "version_major": 2,
       "version_minor": 0
      },
      "text/plain": [
       "interactive(children=(IntSlider(value=5, description='m', max=15, min=1), Output()), _dom_classes=('widget-int…"
      ]
     },
     "metadata": {},
     "output_type": "display_data"
    }
   ],
   "source": [
    "interact(\n",
    "    plot_err,\n",
    "    even_odd=fixed(\"odd\"),\n",
    "    m=widgets.IntSlider(value=5, min=1, max=15, step=1, description=\"m\"),\n",
    "    slope=fixed((True, False)),\n",
    ");"
   ]
  }
 ],
 "metadata": {
  "kernelspec": {
   "display_name": "Python 3",
   "language": "python",
   "name": "python3"
  },
  "language_info": {
   "codemirror_mode": {
    "name": "ipython",
    "version": 3
   },
   "file_extension": ".py",
   "mimetype": "text/x-python",
   "name": "python",
   "nbconvert_exporter": "python",
   "pygments_lexer": "ipython3",
   "version": "3.8.6"
  }
 },
 "nbformat": 4,
 "nbformat_minor": 4
}
