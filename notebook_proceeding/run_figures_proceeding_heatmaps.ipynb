{
 "cells": [
  {
   "cell_type": "markdown",
   "metadata": {},
   "source": [
    "# Code to produce figure from WAVES proceeding\n",
    "\n",
    "Zoïs Moitier, Camille Carvalho\n",
    "            \n",
    "_Karlsruhe Institute of Technology, Germany, INSA Lyon, UC Merced_"
   ]
  },
  {
   "cell_type": "code",
   "execution_count": 1,
   "metadata": {},
   "outputs": [],
   "source": [
    "import os\n",
    "import sys\n",
    "\n",
    "sys.path.append(os.path.dirname(os.getcwd()))\n",
    "import src.helmholtz as hel\n",
    "import src.utils as utils"
   ]
  },
  {
   "cell_type": "code",
   "execution_count": 2,
   "metadata": {},
   "outputs": [],
   "source": [
    "import matplotlib.pyplot as plt\n",
    "import numpy as np\n",
    "import seaborn as sns\n",
    "from math import sqrt\n",
    "from matplotlib.colors import LogNorm\n",
    "\n",
    "%matplotlib inline"
   ]
  },
  {
   "cell_type": "markdown",
   "metadata": {},
   "source": [
    "## Internal plotting functions"
   ]
  },
  {
   "cell_type": "code",
   "execution_count": 3,
   "metadata": {},
   "outputs": [],
   "source": [
    "def set_rcParams(font_size=10, line_width=1):\n",
    "    \"\"\"Set rcParam of matplotlib.\"\"\"\n",
    "    parameters = {\n",
    "        # Use LaTeX to write all text\n",
    "        \"text.usetex\": True,\n",
    "        \"font.family\": \"serif\",\n",
    "        # Use 10pt font in plots, to match 10pt font in document\n",
    "        \"axes.labelsize\": font_size,\n",
    "        \"font.size\": font_size,\n",
    "        # Make the legend/label fonts a little smaller\n",
    "        \"legend.fontsize\": font_size,\n",
    "        \"xtick.major.width\": 0.5,\n",
    "        \"xtick.labelsize\": font_size-5,\n",
    "        \"ytick.major.width\": 0.5,\n",
    "        \"ytick.labelsize\": font_size-5,\n",
    "        # Line properties\n",
    "        \"lines.linewidth\": line_width,\n",
    "        \"axes.linewidth\": 0.5,\n",
    "        \"grid.linewidth\": 0.25,\n",
    "    }\n",
    "    return parameters\n",
    "\n",
    "def set_size(width=370.38374, frac_width=1, frac_height=None):\n",
    "    \"\"\"Set size for plot.\"\"\"\n",
    "    # Width of figure (in pts)\n",
    "    fig_width = width * frac_width\n",
    "    # Convert from pt to inches\n",
    "    inches_per_pt = 1 / 72.27\n",
    "\n",
    "    # Golden ratio to set aesthetic figure height\n",
    "    inv_golden_ratio = (sqrt(5) - 1) / 2\n",
    "\n",
    "    # Figure width in inches\n",
    "    fig_width_in = fig_width * inches_per_pt\n",
    "    # Figure height in inches\n",
    "    if frac_height is None:\n",
    "        fig_height_in = fig_width_in * inv_golden_ratio\n",
    "    else:\n",
    "        fig_height_in = fig_width_in * frac_height\n",
    "\n",
    "    return (fig_width_in, fig_height_in)\n"
   ]
  },
  {
   "cell_type": "code",
   "execution_count": 4,
   "metadata": {},
   "outputs": [],
   "source": [
    "def calc_err(result, tt_trace):\n",
    "    θ = result.grid\n",
    "    u_ana = tt_trace[0](θ)\n",
    "    v_ana = tt_trace[1](θ)\n",
    "    u_num = result.trace\n",
    "    v_num = result.scaled_normal_trace\n",
    "\n",
    "    return (\n",
    "        np.abs(u_num - u_ana).max() / np.abs(u_ana).max(),\n",
    "        np.abs(v_num - v_ana).max() / np.abs(v_ana).max(),\n",
    "    )"
   ]
  },
  {
   "cell_type": "markdown",
   "metadata": {},
   "source": [
    "## 1) Function plotting error with respect to $\\varepsilon$"
   ]
  },
  {
   "cell_type": "code",
   "execution_count": 5,
   "metadata": {},
   "outputs": [],
   "source": [
    "def plot_err(param):\n",
    "    ɛ_vec = param[\"ɛ_vec\"]\n",
    "    nb_ɛ = np.size(ɛ_vec, 0)\n",
    "\n",
    "    α = param[\"α\"]\n",
    "    k = param[\"k\"]\n",
    "    type_wave = param[\"type_wave\"]\n",
    "    m = param[\"m\"]\n",
    "\n",
    "    N = param[\"N\"]\n",
    "\n",
    "    solvers = [\n",
    "        hel.bie.get_total_field_pqr,\n",
    "        hel.bie.get_total_field_qpax,\n",
    "    ]\n",
    "\n",
    "    err_u = np.zeros((nb_ɛ, len(solvers)))\n",
    "    err_v = np.zeros((nb_ɛ, len(solvers)))\n",
    "\n",
    "    for s, solver in enumerate(solvers):\n",
    "\n",
    "        for i, ɛ in enumerate(ɛ_vec):\n",
    "            obs = hel.create_obstacle(\n",
    "                ɛ=ɛ, bdy_type=hel.BoundaryType.PENETRABLE, σ=param[\"σ\"], ρ=param[\"ρ\"]\n",
    "            )\n",
    "\n",
    "            if type_wave.startswith(\"ful\"):\n",
    "                in_field = hel.analytic.plane_wave_field(obs, α, k, m)\n",
    "            else:\n",
    "                in_field = hel.analytic.create_one_field(obs, k, type_wave, 1, m)\n",
    "\n",
    "            sc_field = hel.analytic.get_scatter_field(obs, in_field)\n",
    "            tt_trace = hel.get_total_trace(obs, in_field, sc_field)\n",
    "\n",
    "            err_u[i, s], err_v[i, s] = calc_err(\n",
    "                solver(obs, k, hel.get_incident_trace_expansion(in_field), N), tt_trace\n",
    "            )\n",
    "\n",
    "    fig_size = [1.25 * e for e in [2 * 6.4, 4.8]]\n",
    "    fig, axs = plt.subplots(ncols=2, figsize=set_size(frac_width=1), constrained_layout=True)\n",
    "\n",
    "    marker_vec = (\"o\", \"X\")\n",
    "    for n, leg in enumerate(param[\"legends\"]):\n",
    "        axs[0].loglog(ɛ_vec, err_u[:, n], f\"{marker_vec[n]}--\", label=leg)\n",
    "        axs[1].loglog(ɛ_vec, err_v[:, n], f\"{marker_vec[n]}--\", label=leg)\n",
    "\n",
    "    if param[\"slope\"][0]:\n",
    "        ε_ = np.array([1e-8, 1e-3])\n",
    "        axs[0].loglog(ε_, 10 ** (-0.5) * ε_, \"k\", label=r\"$\\mathcal{O}(\\varepsilon)$\")\n",
    "        axs[1].loglog(ε_, 10 ** (-0.5) * ε_, \"k\", label=r\"$\\mathcal{O}(\\varepsilon)$\")\n",
    "\n",
    "    if param[\"slope\"][1]:\n",
    "        ε_ = np.array([1e-7, 1e-3])\n",
    "        axs[0].loglog(ε_, ε_**2, \"k--\", label=r\"$\\mathcal{O}(\\varepsilon^2)$\")\n",
    "        axs[1].loglog(ε_, ε_**2, \"k--\", label=r\"$\\mathcal{O}(\\varepsilon^2)$\")\n",
    "\n",
    "    for ax in axs:\n",
    "        # ax.set_xlim(*param[\"xlim\"])\n",
    "        ax.set_xlabel(r\"$\\varepsilon$\", fontsize=15)\n",
    "        # ax.set_ylim(*param[\"ylim\"])\n",
    "        ax.set_ylabel(\"relative error\", fontsize=15)\n",
    "        ax.grid(True)\n",
    "        ax.legend(fontsize=6, loc = 'lower right')\n",
    "        ax.legend(fontsize=15)\n",
    "        ax.minorticks_off()\n",
    "        #filename = f\"error\"\n",
    "        #ext = \"pdf\"\n",
    "        #fig.savefig(f\"{filename}.{ext}\", transparent=True, format=ext)\n",
    "\n",
    "    return None"
   ]
  },
  {
   "cell_type": "code",
   "execution_count": 6,
   "metadata": {},
   "outputs": [],
   "source": [
    "def plot_3(ε_vec, σ, ρ, α, k, type_wave, m, N, slope):\n",
    "    plot_err(\n",
    "        {\n",
    "            \"σ\": σ,\n",
    "            \"ρ\": ρ,\n",
    "            \"type_wave\": type_wave,\n",
    "            \"m\": m,\n",
    "            \"α\": α,\n",
    "            \"k\": k,\n",
    "            \"ɛ_vec\": ɛ_vec,\n",
    "            \"N\": N,\n",
    "            \"legends\": (\"PQR\", \"QPAX\"),\n",
    "            \"slope\": slope,\n",
    "            \"xlim\": (1e-4, 1),\n",
    "            \"ylim\": (1e-4, 1e2),\n",
    "        }\n",
    "    )\n",
    "    return None"
   ]
  },
  {
   "cell_type": "markdown",
   "metadata": {
    "tags": []
   },
   "source": [
    "### Ellipse parameters"
   ]
  },
  {
   "cell_type": "code",
   "execution_count": 7,
   "metadata": {},
   "outputs": [],
   "source": [
    "## Ellipse material parameters\n",
    "σ = 1.1#parameter in the 2nd order term (div(σ grad u))\n",
    "ρ = 1 #parameter in the compact term (k**2 ρ u)"
   ]
  },
  {
   "cell_type": "code",
   "execution_count": 8,
   "metadata": {
    "tags": []
   },
   "outputs": [],
   "source": [
    "## Incident field parameters\n",
    "α = 0  # (cos(α), sin(α)) direction of the plane wave\n",
    "k = 2  # wavenumber direction of the plane wave"
   ]
  },
  {
   "cell_type": "code",
   "execution_count": 9,
   "metadata": {},
   "outputs": [],
   "source": [
    "## Discretization parameters\n",
    "N = 200  # Number of quadrature points\n",
    "m = 8  # Number of Mathieu functions in the series\n",
    "nb_ɛ = 40  # Number of ε\n",
    "ɛ_min, ɛ_max = 1e-8,  0.99 # Limits for ε\n",
    "ɛ_vec = np.geomspace(ɛ_min, ɛ_max, num=nb_ɛ)"
   ]
  },
  {
   "cell_type": "markdown",
   "metadata": {},
   "source": [
    "### Relative error for full solution"
   ]
  },
  {
   "cell_type": "code",
   "execution_count": 10,
   "metadata": {},
   "outputs": [
    {
     "data": {
      "image/png": "[encoded data removed]",
      "text/plain": [
       "<Figure size 369x228.055 with 2 Axes>"
      ]
     },
     "metadata": {
      "needs_background": "light"
     },
     "output_type": "display_data"
    }
   ],
   "source": [
    "plot_3(ɛ_vec, σ, ρ, α, k, \"ful\", m, N, (False, False))"
   ]
  },
  {
   "cell_type": "markdown",
   "metadata": {},
   "source": [
    "## 2) Heatmap of the error with respect to $\\varepsilon$ and N"
   ]
  },
  {
   "cell_type": "code",
   "execution_count": 11,
   "metadata": {},
   "outputs": [],
   "source": [
    "def plot_err_heatmap(param):\n",
    "    ɛ_vec = param[\"ɛ_vec\"]\n",
    "    ɛ_str = param[\"ɛ_str\"]\n",
    "    bdy_type = param[\"bdy_type\"]\n",
    "\n",
    "    α = param[\"α\"]\n",
    "    k = param[\"k\"]\n",
    "    m = param[\"m\"]\n",
    "    N_vec = param[\"N_vec\"]\n",
    "    \n",
    "    solvers = [\n",
    "        hel.bie.get_total_field_pqr,\n",
    "        hel.bie.get_total_field_qpax,\n",
    "    ]\n",
    "    \n",
    "    solver_labels = [\n",
    "        \"PQR\",\n",
    "        \"QPAX\",\n",
    "    ]\n",
    "\n",
    "    err_u = np.empty((len(solvers), len(ɛ_vec), len(N_vec)))\n",
    "    err_v = np.empty((len(solvers), len(ɛ_vec), len(N_vec)))\n",
    "\n",
    "    for s, solver in enumerate(solvers):\n",
    "\n",
    "        for i, ɛ in enumerate(ɛ_vec):\n",
    "            obs = hel.create_obstacle(\n",
    "                ɛ=ɛ, bdy_type=hel.BoundaryType.PENETRABLE, σ=param[\"σ\"], ρ=param[\"ρ\"]\n",
    "            )\n",
    "            in_field = hel.analytic.plane_wave_field(obs, α, k, m)\n",
    "            sc_field = hel.analytic.get_scatter_field(obs, in_field)\n",
    "            tt_trace = hel.get_total_trace(obs, in_field, sc_field)\n",
    "            \n",
    "            for j, N in enumerate(N_vec):\n",
    "                err_u[s, i, j], err_v[s, i, j] = calc_err(\n",
    "                solver(obs, k, hel.get_incident_trace_expansion(in_field), N), tt_trace\n",
    "            )\n",
    "        plt.rcParams.update(set_rcParams(font_size=8))\n",
    "        fig_size = [1.25 * e for e in [6.4, 4.8]]\n",
    "        fig, ax = plt.subplots(figsize=set_size(frac_width=0.49), constrained_layout=True)\n",
    "\n",
    "        log_norm_err = LogNorm(1e-8, 1e1) #err_u[s,:,:].min(), err_u[s,:,:].max()) \n",
    "        sns.heatmap(\n",
    "        err_u[s,:,:],\n",
    "        ax=ax,\n",
    "        cmap=\"YlGnBu_r\",\n",
    "        norm=log_norm_err,\n",
    "        xticklabels=N_vec,\n",
    "        yticklabels=[f\"{x:.1e}\" for x in ɛ_vec],\n",
    "        )\n",
    "        ax.set_xlabel(r\"$2N$\", fontsize=10)\n",
    "        ax.set_ylabel(r\"$\\varepsilon$\", fontsize=10)\n",
    "        ax.set_aspect(\"equal\", \"box\")\n",
    "        cbar_ax = fig.axes[-1]\n",
    "        cbar_ax.tick_params(which=\"minor\", length=0, labelsize=10)\n",
    "        #filename = f\"error_u_{solver_labels[s]}\"\n",
    "        #ext = \"pdf\"\n",
    "        #fig.savefig(f\"{filename}.{ext}\", transparent=True, format=ext)\n",
    "        \n",
    "        fig_size = [1.25 * e for e in [6.4, 4.8]]\n",
    "        fig, ax = plt.subplots(figsize=set_size(frac_width=0.49), constrained_layout=True)\n",
    "        log_norm_err_v = LogNorm(1e-8, 1e1) #err_v[s,:,:].min(), err_v[s,:,:].max())\n",
    "        sns.heatmap(\n",
    "            err_v[s,:,:],\n",
    "            ax=ax,\n",
    "            cmap=\"YlGnBu_r\",\n",
    "            norm=log_norm_err_v,\n",
    "            xticklabels=N_vec,\n",
    "            yticklabels=[f\"{x:.1e}\" for x in ɛ_vec],\n",
    "        )\n",
    "        ax.set_xlabel(r\"$2N$\", fontsize=10)\n",
    "        ax.set_ylabel(r\"$\\varepsilon$\", fontsize=10)\n",
    "        ax.set_aspect(\"equal\", \"box\")\n",
    "        cbar_ax = fig.axes[-1]\n",
    "        cbar_ax.tick_params(which=\"minor\", length=0, labelsize=10)\n",
    "        #filename = f\"error_v_{solver_labels[s]}\"\n",
    "        #ext = \"pdf\"\n",
    "        #fig.savefig(f\"{filename}.{ext}\", transparent=True, format=ext)\n",
    "    return None"
   ]
  },
  {
   "cell_type": "code",
   "execution_count": 12,
   "metadata": {},
   "outputs": [
    {
     "data": {
      "image/png": "[encoded data removed]",
      "text/plain": [
       "<Figure size 180.81x111.747 with 2 Axes>"
      ]
     },
     "metadata": {
      "needs_background": "light"
     },
     "output_type": "display_data"
    },
    {
     "data": {
      "image/png": "[encoded data removed]",
      "text/plain": [
       "<Figure size 180.81x111.747 with 2 Axes>"
      ]
     },
     "metadata": {
      "needs_background": "light"
     },
     "output_type": "display_data"
    },
    {
     "data": {
      "image/png": "[encoded data removed]",
      "text/plain": [
       "<Figure size 180.81x111.747 with 2 Axes>"
      ]
     },
     "metadata": {
      "needs_background": "light"
     },
     "output_type": "display_data"
    },
    {
     "data": {
      "image/png": "[encoded data removed]",
      "text/plain": [
       "<Figure size 180.81x111.747 with 2 Axes>"
      ]
     },
     "metadata": {
      "needs_background": "light"
     },
     "output_type": "display_data"
    }
   ],
   "source": [
    "N_min, N_max = 16, 512\n",
    "nb_N = 12\n",
    "N_vec = utils.logspace_quadrature(N_min, N_max, nb_N)\n",
    "\n",
    "ɛ_min, ɛ_max = 1e-8, 0.9\n",
    "nb_ɛ = 12\n",
    "ɛ_vec = utils.logspace_epsilon(ɛ_min, ɛ_max, nb_ɛ)[::-1]\n",
    "ɛ_str = [f\"{x:.1e}\" for x in ɛ_vec]\n",
    "\n",
    "plot_err_heatmap(\n",
    "    {\n",
    "        \"bdy_type\": hel.BoundaryType.PENETRABLE,\n",
    "        \"ɛ_vec\": ɛ_vec,\n",
    "        \"ɛ_str\": ɛ_str,\n",
    "        \"α\": α,\n",
    "        \"σ\": σ,\n",
    "        \"ρ\": ρ,\n",
    "        \"k\": k,\n",
    "        \"m\": m,\n",
    "        \"N_vec\": N_vec,\n",
    "    }\n",
    ")"
   ]
  },
  {
   "cell_type": "code",
   "execution_count": null,
   "metadata": {},
   "outputs": [],
   "source": []
  }
 ],
 "metadata": {
  "kernelspec": {
   "display_name": "Python 3 (ipykernel)",
   "language": "python",
   "name": "python3"
  },
  "language_info": {
   "codemirror_mode": {
    "name": "ipython",
    "version": 3
   },
   "file_extension": ".py",
   "mimetype": "text/x-python",
   "name": "python",
   "nbconvert_exporter": "python",
   "pygments_lexer": "ipython3",
   "version": "3.9.10"
  }
 },
 "nbformat": 4,
 "nbformat_minor": 4
}
