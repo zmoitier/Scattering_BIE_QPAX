{
 "cells": [
  {
   "cell_type": "markdown",
   "metadata": {},
   "source": [
    "# Sympy codes to compute the inner expansion of Laplace and Helmholtz double-layer potentials on high aspect ratio ellipse\n",
    "\n",
    "The expansions below are used in the manuscript\n",
    "\n",
    "C. Carvalho, A. D. Kim, L. Lewis, and Z. Moitier, _Quadrature by Parity Asymptotic eXpansions (QPAX) for scattering by high aspect ratio particles_.\n",
    "\n",
    "### Zoïs Moitier, Camille Carvalho (2021)\n",
    "            \n",
    "_Karlsruhe Institute of Technology, Germany_ \n",
    "\n",
    "_University of California Merced, USA_"
   ]
  },
  {
   "cell_type": "code",
   "execution_count": 1,
   "metadata": {},
   "outputs": [],
   "source": [
    "import sympy as sy\n",
    "from IPython.display import display"
   ]
  },
  {
   "cell_type": "code",
   "execution_count": 2,
   "metadata": {},
   "outputs": [],
   "source": [
    "order = 3  # order of the expansion"
   ]
  },
  {
   "cell_type": "code",
   "execution_count": 3,
   "metadata": {},
   "outputs": [],
   "source": [
    "ε, δ, h = sy.symbols(\"varepsilon delta h\", real=True, positive=True)\n",
    "s, t, X = sy.symbols(\"s t X\", real=True)\n",
    "μ_term = sy.symbols(f\"mu0:{order}\", cls=sy.Function)"
   ]
  },
  {
   "cell_type": "markdown",
   "metadata": {},
   "source": [
    "## The Kernel $K^L(s, t; \\varepsilon)$ for Laplace's double-layer potential"
   ]
  },
  {
   "cell_type": "code",
   "execution_count": 4,
   "metadata": {},
   "outputs": [
    {
     "data": {
      "text/latex": [
       "$\\displaystyle - \\frac{\\varepsilon}{2 \\pi \\left(\\varepsilon^{2} + \\left(1 - \\varepsilon^{2}\\right) \\cos{\\left(s + t \\right)} + 1\\right)}$"
      ],
      "text/plain": [
       "-varepsilon/(2*pi*(varepsilon**2 + (1 - varepsilon**2)*cos(s + t) + 1))"
      ]
     },
     "metadata": {},
     "output_type": "display_data"
    }
   ],
   "source": [
    "KL = -(ε) / (2 * sy.pi * (1 + ε ** 2 + (1 - ε ** 2) * sy.cos(s + t)))\n",
    "display(KL)"
   ]
  },
  {
   "cell_type": "markdown",
   "metadata": {},
   "source": [
    "## Expansion of the kernel $K^L(s, \\pi - s + \\varepsilon X; \\varepsilon)$"
   ]
  },
  {
   "cell_type": "code",
   "execution_count": 5,
   "metadata": {},
   "outputs": [
    {
     "data": {
      "text/latex": [
       "$\\displaystyle - \\frac{1}{\\pi X^{2} \\varepsilon + 4 \\pi \\varepsilon} - \\frac{X^{2} \\varepsilon}{\\pi X^{4} + 8 \\pi X^{2} + 16 \\pi} - \\frac{X^{4} \\varepsilon}{12 \\pi X^{4} + 96 \\pi X^{2} + 192 \\pi} + O\\left(\\varepsilon^{3}\\right)$"
      ],
      "text/plain": [
       "-1/(pi*X**2*varepsilon + 4*pi*varepsilon) - X**2*varepsilon/(pi*X**4 + 8*pi*X**2 + 16*pi) - X**4*varepsilon/(12*pi*X**4 + 96*pi*X**2 + 192*pi) + O(varepsilon**3)"
      ]
     },
     "metadata": {},
     "output_type": "display_data"
    }
   ],
   "source": [
    "KL_series = KL.subs(t, sy.pi - s + ε * X).series(x=ε, x0=0, n=order).expand()\n",
    "display(KL_series)"
   ]
  },
  {
   "cell_type": "markdown",
   "metadata": {},
   "source": [
    "## Expansion of the function $\\mu(\\pi - s + \\varepsilon X)$"
   ]
  },
  {
   "cell_type": "code",
   "execution_count": 6,
   "metadata": {},
   "outputs": [
    {
     "data": {
      "text/latex": [
       "$\\displaystyle \\mu_{0}{\\left(\\pi - s \\right)} + X \\varepsilon \\mu_{1}{\\left(\\pi - s \\right)} + X^{2} \\varepsilon^{2} \\mu_{2}{\\left(\\pi - s \\right)} + O\\left(\\varepsilon^{3}\\right)$"
      ],
      "text/plain": [
       "mu0(pi - s) + X*varepsilon*mu1(pi - s) + X**2*varepsilon**2*mu2(pi - s) + O(varepsilon**3)"
      ]
     },
     "metadata": {},
     "output_type": "display_data"
    }
   ],
   "source": [
    "μ_series = sum((ε * X) ** i * μ_(sy.pi - s) for i, μ_ in enumerate(μ_term)) + sy.O(\n",
    "    ε ** order\n",
    ")\n",
    "display(μ_series)"
   ]
  },
  {
   "cell_type": "markdown",
   "metadata": {},
   "source": [
    "## Expansion of the integrand $K^L(s, \\pi-s+\\varepsilon X; \\varepsilon) \\, \\mu(\\pi - s + \\varepsilon X)\\varepsilon$"
   ]
  },
  {
   "cell_type": "code",
   "execution_count": 7,
   "metadata": {},
   "outputs": [
    {
     "data": {
      "text/latex": [
       "$\\displaystyle - \\frac{\\varepsilon \\mu_{0}{\\left(\\pi - s \\right)}}{\\pi X^{2} \\varepsilon + 4 \\pi \\varepsilon} - \\frac{X \\varepsilon^{2} \\mu_{1}{\\left(\\pi - s \\right)}}{\\pi X^{2} \\varepsilon + 4 \\pi \\varepsilon} - \\frac{X^{2} \\varepsilon^{2} \\mu_{0}{\\left(\\pi - s \\right)}}{\\pi X^{4} + 8 \\pi X^{2} + 16 \\pi} - \\frac{X^{2} \\varepsilon^{3} \\mu_{2}{\\left(\\pi - s \\right)}}{\\pi X^{2} \\varepsilon + 4 \\pi \\varepsilon} - \\frac{X^{4} \\varepsilon^{2} \\mu_{0}{\\left(\\pi - s \\right)}}{12 \\pi X^{4} + 96 \\pi X^{2} + 192 \\pi} + O\\left(\\varepsilon^{3}\\right)$"
      ],
      "text/plain": [
       "-varepsilon*mu0(pi - s)/(pi*X**2*varepsilon + 4*pi*varepsilon) - X*varepsilon**2*mu1(pi - s)/(pi*X**2*varepsilon + 4*pi*varepsilon) - X**2*varepsilon**2*mu0(pi - s)/(pi*X**4 + 8*pi*X**2 + 16*pi) - X**2*varepsilon**3*mu2(pi - s)/(pi*X**2*varepsilon + 4*pi*varepsilon) - X**4*varepsilon**2*mu0(pi - s)/(12*pi*X**4 + 96*pi*X**2 + 192*pi) + O(varepsilon**3)"
      ]
     },
     "metadata": {},
     "output_type": "display_data"
    }
   ],
   "source": [
    "expr = (KL_series * μ_series * ε).expand()\n",
    "display(expr)"
   ]
  },
  {
   "cell_type": "markdown",
   "metadata": {},
   "source": [
    "## Inner expansion $\\int_{-\\frac{\\delta}{2\\varepsilon}}^{\\frac{\\delta}{2\\varepsilon}} K^L(s, \\pi-s+\\varepsilon X; \\varepsilon) \\, \\mu(\\pi - s + \\varepsilon X) \\varepsilon\\, \\mathrm{d}X$"
   ]
  },
  {
   "cell_type": "code",
   "execution_count": 8,
   "metadata": {},
   "outputs": [
    {
     "data": {
      "text/latex": [
       "$\\displaystyle - \\frac{\\mu_{0}{\\left(\\pi - s \\right)} \\operatorname{atan}{\\left(\\frac{\\delta}{4 \\varepsilon} \\right)}}{\\pi} - \\frac{\\delta^{3} \\varepsilon \\mu_{0}{\\left(\\pi - s \\right)}}{12 \\pi \\delta^{2} + 192 \\pi \\varepsilon^{2}} + O\\left(\\varepsilon^{2}\\right)$"
      ],
      "text/plain": [
       "-mu0(pi - s)*atan(delta/(4*varepsilon))/pi - delta**3*varepsilon*mu0(pi - s)/(12*pi*delta**2 + 192*pi*varepsilon**2) + O(varepsilon**2)"
      ]
     },
     "metadata": {},
     "output_type": "display_data"
    }
   ],
   "source": [
    "int_expr = sy.O(ε ** 2)\n",
    "for i in range(order):\n",
    "    expr_term = expr.coeff(ε, i)\n",
    "    for u_ in μ_term:\n",
    "        expr_term_u = expr_term.coeff(u_(sy.pi - s), 1).factor()\n",
    "        int_term = sy.integrate(expr_term_u, (X, -δ / (2 * ε), δ / (2 * ε))).expand()\n",
    "        int_expr += (int_term * u_(sy.pi - s) * ε ** i).factor().expand()\n",
    "\n",
    "display(int_expr)"
   ]
  },
  {
   "cell_type": "markdown",
   "metadata": {},
   "source": [
    "## The Kernel $K(s, t; \\varepsilon) = K_1(s, t; \\varepsilon)\\log (4 \\sin(\\frac{s-t}{2})^2) + K_2(s, t; \\varepsilon)$ for Helmholtz double-layer potential\n"
   ]
  },
  {
   "cell_type": "code",
   "execution_count": 9,
   "metadata": {},
   "outputs": [],
   "source": [
    "ε, δ, h, k = sy.symbols(\"varepsilon delta h k\", real=True, positive=True)\n",
    "s, t, X = sy.symbols(\"s t X\", real=True)\n",
    "u_term = sy.symbols(f\"u0:{order}\", cls=sy.Function)"
   ]
  },
  {
   "cell_type": "code",
   "execution_count": 10,
   "metadata": {},
   "outputs": [
    {
     "data": {
      "text/latex": [
       "$\\displaystyle 2 k \\sqrt{\\varepsilon^{2} \\sin^{2}{\\left(\\frac{s}{2} + \\frac{t}{2} \\right)} + \\cos^{2}{\\left(\\frac{s}{2} + \\frac{t}{2} \\right)}} \\left|{\\sin{\\left(\\frac{s}{2} - \\frac{t}{2} \\right)}}\\right|$"
      ],
      "text/plain": [
       "2*k*sqrt(varepsilon**2*sin(s/2 + t/2)**2 + cos(s/2 + t/2)**2)*Abs(sin(s/2 - t/2))"
      ]
     },
     "metadata": {},
     "output_type": "display_data"
    }
   ],
   "source": [
    "zε = (\n",
    "    2\n",
    "    * k\n",
    "    * abs(sy.sin((s - t) / 2))\n",
    "    * sy.sqrt(sy.cos((s + t) / 2) ** 2 + ε ** 2 * sy.sin((s + t) / 2) ** 2)\n",
    ")\n",
    "display(zε)"
   ]
  },
  {
   "cell_type": "code",
   "execution_count": 11,
   "metadata": {},
   "outputs": [
    {
     "data": {
      "text/latex": [
       "$\\displaystyle \\frac{k \\varepsilon \\sqrt{\\varepsilon^{2} \\sin^{2}{\\left(\\frac{s}{2} + \\frac{t}{2} \\right)} + \\cos^{2}{\\left(\\frac{s}{2} + \\frac{t}{2} \\right)}} \\left|{\\sin{\\left(\\frac{s}{2} - \\frac{t}{2} \\right)}}\\right| J_{1}\\left(2 k \\sqrt{\\varepsilon^{2} \\sin^{2}{\\left(\\frac{s}{2} + \\frac{t}{2} \\right)} + \\cos^{2}{\\left(\\frac{s}{2} + \\frac{t}{2} \\right)}} \\left|{\\sin{\\left(\\frac{s}{2} - \\frac{t}{2} \\right)}}\\right|\\right)}{2 \\pi \\left(\\varepsilon^{2} + \\left(1 - \\varepsilon^{2}\\right) \\cos{\\left(s + t \\right)} + 1\\right)}$"
      ],
      "text/plain": [
       "k*varepsilon*sqrt(varepsilon**2*sin(s/2 + t/2)**2 + cos(s/2 + t/2)**2)*Abs(sin(s/2 - t/2))*besselj(1, 2*k*sqrt(varepsilon**2*sin(s/2 + t/2)**2 + cos(s/2 + t/2)**2)*Abs(sin(s/2 - t/2)))/(2*pi*(varepsilon**2 + (1 - varepsilon**2)*cos(s + t) + 1))"
      ]
     },
     "metadata": {},
     "output_type": "display_data"
    }
   ],
   "source": [
    "K1 = -(zε * KL * sy.besselj(1, zε)) / 2\n",
    "display(K1)"
   ]
  },
  {
   "cell_type": "code",
   "execution_count": 12,
   "metadata": {},
   "outputs": [
    {
     "data": {
      "text/latex": [
       "$\\displaystyle \\frac{k \\varepsilon \\sqrt{\\varepsilon^{2} \\sin^{2}{\\left(\\frac{s}{2} + \\frac{t}{2} \\right)} + \\cos^{2}{\\left(\\frac{s}{2} + \\frac{t}{2} \\right)}} \\left(\\log{\\left(4 \\sin^{2}{\\left(\\frac{s}{2} - \\frac{t}{2} \\right)} \\right)} J_{1}\\left(2 k \\sqrt{\\varepsilon^{2} \\sin^{2}{\\left(\\frac{s}{2} + \\frac{t}{2} \\right)} + \\cos^{2}{\\left(\\frac{s}{2} + \\frac{t}{2} \\right)}} \\left|{\\sin{\\left(\\frac{s}{2} - \\frac{t}{2} \\right)}}\\right|\\right) + i \\pi H^{(1)}_{1}\\left(2 k \\sqrt{\\varepsilon^{2} \\sin^{2}{\\left(\\frac{s}{2} + \\frac{t}{2} \\right)} + \\cos^{2}{\\left(\\frac{s}{2} + \\frac{t}{2} \\right)}} \\left|{\\sin{\\left(\\frac{s}{2} - \\frac{t}{2} \\right)}}\\right|\\right)\\right) \\left|{\\sin{\\left(\\frac{s}{2} - \\frac{t}{2} \\right)}}\\right|}{2 \\pi \\left(\\varepsilon^{2} + \\left(1 - \\varepsilon^{2}\\right) \\cos{\\left(s + t \\right)} + 1\\right)}$"
      ],
      "text/plain": [
       "k*varepsilon*sqrt(varepsilon**2*sin(s/2 + t/2)**2 + cos(s/2 + t/2)**2)*(log(4*sin(s/2 - t/2)**2)*besselj(1, 2*k*sqrt(varepsilon**2*sin(s/2 + t/2)**2 + cos(s/2 + t/2)**2)*Abs(sin(s/2 - t/2))) + I*pi*hankel1(1, 2*k*sqrt(varepsilon**2*sin(s/2 + t/2)**2 + cos(s/2 + t/2)**2)*Abs(sin(s/2 - t/2))))*Abs(sin(s/2 - t/2))/(2*pi*(varepsilon**2 + (1 - varepsilon**2)*cos(s + t) + 1))"
      ]
     },
     "metadata": {},
     "output_type": "display_data"
    }
   ],
   "source": [
    "log_term = sy.ln(4 * sy.sin((s - t) / 2) ** 2)\n",
    "K2 = (\n",
    "    -((sy.I * sy.pi * sy.hankel1(1, zε) + sy.besselj(1, zε) * log_term) * (KL * zε)) / 2\n",
    ")\n",
    "display(K2)"
   ]
  },
  {
   "cell_type": "markdown",
   "metadata": {},
   "source": [
    "## Expansion of the kernel $K_1(s, \\pi - s + \\varepsilon X; \\varepsilon)\\log (4 \\sin(\\frac{s-t}{2})^2)u(s, \\pi - s + \\varepsilon X; \\varepsilon)\\varepsilon$\n"
   ]
  },
  {
   "cell_type": "code",
   "execution_count": 13,
   "metadata": {},
   "outputs": [
    {
     "data": {
      "text/latex": [
       "$\\displaystyle - \\frac{4 k^{2} \\varepsilon^{3} \\operatorname{u_{0}}{\\left(\\pi - s \\right)} \\log{\\left(\\varepsilon \\right)} \\cos^{2}{\\left(s \\right)}}{\\pi X^{2} \\varepsilon + 4 \\pi \\varepsilon} + \\frac{4 k^{2} \\varepsilon^{3} \\operatorname{u_{0}}{\\left(\\pi - s \\right)} \\log{\\left(2 \\right)} \\cos^{2}{\\left(s \\right)}}{2 \\pi X^{2} \\varepsilon + 8 \\pi \\varepsilon} - \\frac{4 k^{2} \\varepsilon^{3} \\operatorname{u_{0}}{\\left(\\pi - s \\right)} \\log{\\left(X^{2} + 4 \\right)} \\cos^{2}{\\left(s \\right)}}{2 \\pi X^{2} \\varepsilon + 8 \\pi \\varepsilon} - \\frac{4 X k^{2} \\varepsilon^{4} \\operatorname{u_{1}}{\\left(\\pi - s \\right)} \\log{\\left(\\varepsilon \\right)} \\cos^{2}{\\left(s \\right)}}{\\pi X^{2} \\varepsilon + 4 \\pi \\varepsilon} - \\frac{4 X k^{2} \\varepsilon^{4} \\operatorname{u_{0}}{\\left(\\pi - s \\right)} \\log{\\left(\\varepsilon \\right)} \\sin{\\left(s \\right)} \\left|{\\cos{\\left(s \\right)}}\\right| \\operatorname{sign}{\\left(\\cos{\\left(s \\right)} \\right)}}{\\pi X^{2} \\varepsilon + 4 \\pi \\varepsilon} + \\frac{4 X k^{2} \\varepsilon^{4} \\operatorname{u_{1}}{\\left(\\pi - s \\right)} \\log{\\left(2 \\right)} \\cos^{2}{\\left(s \\right)}}{2 \\pi X^{2} \\varepsilon + 8 \\pi \\varepsilon} - \\frac{4 X k^{2} \\varepsilon^{4} \\operatorname{u_{1}}{\\left(\\pi - s \\right)} \\log{\\left(X^{2} + 4 \\right)} \\cos^{2}{\\left(s \\right)}}{2 \\pi X^{2} \\varepsilon + 8 \\pi \\varepsilon} + \\frac{4 X k^{2} \\varepsilon^{4} \\operatorname{u_{0}}{\\left(\\pi - s \\right)} \\log{\\left(2 \\right)} \\sin{\\left(s \\right)} \\left|{\\cos{\\left(s \\right)}}\\right| \\operatorname{sign}{\\left(\\cos{\\left(s \\right)} \\right)}}{2 \\pi X^{2} \\varepsilon + 8 \\pi \\varepsilon} - \\frac{4 X k^{2} \\varepsilon^{4} \\operatorname{u_{0}}{\\left(\\pi - s \\right)} \\log{\\left(X^{2} + 4 \\right)} \\sin{\\left(s \\right)} \\left|{\\cos{\\left(s \\right)}}\\right| \\operatorname{sign}{\\left(\\cos{\\left(s \\right)} \\right)}}{2 \\pi X^{2} \\varepsilon + 8 \\pi \\varepsilon} - \\frac{X^{2} k^{2} \\varepsilon^{3} \\operatorname{u_{0}}{\\left(\\pi - s \\right)} \\log{\\left(\\varepsilon \\right)} \\cos^{2}{\\left(s \\right)}}{\\pi X^{2} \\varepsilon + 4 \\pi \\varepsilon} + \\frac{X^{2} k^{2} \\varepsilon^{3} \\operatorname{u_{0}}{\\left(\\pi - s \\right)} \\log{\\left(2 \\right)} \\cos^{2}{\\left(s \\right)}}{2 \\pi X^{2} \\varepsilon + 8 \\pi \\varepsilon} - \\frac{X^{2} k^{2} \\varepsilon^{3} \\operatorname{u_{0}}{\\left(\\pi - s \\right)} \\log{\\left(X^{2} + 4 \\right)} \\cos^{2}{\\left(s \\right)}}{2 \\pi X^{2} \\varepsilon + 8 \\pi \\varepsilon} - \\frac{X^{3} k^{2} \\varepsilon^{4} \\operatorname{u_{1}}{\\left(\\pi - s \\right)} \\log{\\left(\\varepsilon \\right)} \\cos^{2}{\\left(s \\right)}}{\\pi X^{2} \\varepsilon + 4 \\pi \\varepsilon} - \\frac{X^{3} k^{2} \\varepsilon^{4} \\operatorname{u_{0}}{\\left(\\pi - s \\right)} \\log{\\left(\\varepsilon \\right)} \\sin{\\left(s \\right)} \\left|{\\cos{\\left(s \\right)}}\\right| \\operatorname{sign}{\\left(\\cos{\\left(s \\right)} \\right)}}{\\pi X^{2} \\varepsilon + 4 \\pi \\varepsilon} + \\frac{X^{3} k^{2} \\varepsilon^{4} \\operatorname{u_{1}}{\\left(\\pi - s \\right)} \\log{\\left(2 \\right)} \\cos^{2}{\\left(s \\right)}}{2 \\pi X^{2} \\varepsilon + 8 \\pi \\varepsilon} - \\frac{X^{3} k^{2} \\varepsilon^{4} \\operatorname{u_{1}}{\\left(\\pi - s \\right)} \\log{\\left(X^{2} + 4 \\right)} \\cos^{2}{\\left(s \\right)}}{2 \\pi X^{2} \\varepsilon + 8 \\pi \\varepsilon} + \\frac{X^{3} k^{2} \\varepsilon^{4} \\operatorname{u_{0}}{\\left(\\pi - s \\right)} \\log{\\left(2 \\right)} \\sin{\\left(s \\right)} \\left|{\\cos{\\left(s \\right)}}\\right| \\operatorname{sign}{\\left(\\cos{\\left(s \\right)} \\right)}}{2 \\pi X^{2} \\varepsilon + 8 \\pi \\varepsilon} - \\frac{X^{3} k^{2} \\varepsilon^{4} \\operatorname{u_{0}}{\\left(\\pi - s \\right)} \\log{\\left(X^{2} + 4 \\right)} \\sin{\\left(s \\right)} \\left|{\\cos{\\left(s \\right)}}\\right| \\operatorname{sign}{\\left(\\cos{\\left(s \\right)} \\right)}}{2 \\pi X^{2} \\varepsilon + 8 \\pi \\varepsilon} + O\\left(\\varepsilon^{4} \\log{\\left(\\varepsilon \\right)}\\right)$"
      ],
      "text/plain": [
       "-4*k**2*varepsilon**3*u0(pi - s)*log(varepsilon)*cos(s)**2/(pi*X**2*varepsilon + 4*pi*varepsilon) + 4*k**2*varepsilon**3*u0(pi - s)*log(2)*cos(s)**2/(2*pi*X**2*varepsilon + 8*pi*varepsilon) - 4*k**2*varepsilon**3*u0(pi - s)*log(X**2 + 4)*cos(s)**2/(2*pi*X**2*varepsilon + 8*pi*varepsilon) - 4*X*k**2*varepsilon**4*u1(pi - s)*log(varepsilon)*cos(s)**2/(pi*X**2*varepsilon + 4*pi*varepsilon) - 4*X*k**2*varepsilon**4*u0(pi - s)*log(varepsilon)*sin(s)*Abs(cos(s))*sign(cos(s))/(pi*X**2*varepsilon + 4*pi*varepsilon) + 4*X*k**2*varepsilon**4*u1(pi - s)*log(2)*cos(s)**2/(2*pi*X**2*varepsilon + 8*pi*varepsilon) - 4*X*k**2*varepsilon**4*u1(pi - s)*log(X**2 + 4)*cos(s)**2/(2*pi*X**2*varepsilon + 8*pi*varepsilon) + 4*X*k**2*varepsilon**4*u0(pi - s)*log(2)*sin(s)*Abs(cos(s))*sign(cos(s))/(2*pi*X**2*varepsilon + 8*pi*varepsilon) - 4*X*k**2*varepsilon**4*u0(pi - s)*log(X**2 + 4)*sin(s)*Abs(cos(s))*sign(cos(s))/(2*pi*X**2*varepsilon + 8*pi*varepsilon) - X**2*k**2*varepsilon**3*u0(pi - s)*log(varepsilon)*cos(s)**2/(pi*X**2*varepsilon + 4*pi*varepsilon) + X**2*k**2*varepsilon**3*u0(pi - s)*log(2)*cos(s)**2/(2*pi*X**2*varepsilon + 8*pi*varepsilon) - X**2*k**2*varepsilon**3*u0(pi - s)*log(X**2 + 4)*cos(s)**2/(2*pi*X**2*varepsilon + 8*pi*varepsilon) - X**3*k**2*varepsilon**4*u1(pi - s)*log(varepsilon)*cos(s)**2/(pi*X**2*varepsilon + 4*pi*varepsilon) - X**3*k**2*varepsilon**4*u0(pi - s)*log(varepsilon)*sin(s)*Abs(cos(s))*sign(cos(s))/(pi*X**2*varepsilon + 4*pi*varepsilon) + X**3*k**2*varepsilon**4*u1(pi - s)*log(2)*cos(s)**2/(2*pi*X**2*varepsilon + 8*pi*varepsilon) - X**3*k**2*varepsilon**4*u1(pi - s)*log(X**2 + 4)*cos(s)**2/(2*pi*X**2*varepsilon + 8*pi*varepsilon) + X**3*k**2*varepsilon**4*u0(pi - s)*log(2)*sin(s)*Abs(cos(s))*sign(cos(s))/(2*pi*X**2*varepsilon + 8*pi*varepsilon) - X**3*k**2*varepsilon**4*u0(pi - s)*log(X**2 + 4)*sin(s)*Abs(cos(s))*sign(cos(s))/(2*pi*X**2*varepsilon + 8*pi*varepsilon) + O(varepsilon**4*log(varepsilon))"
      ]
     },
     "metadata": {},
     "output_type": "display_data"
    }
   ],
   "source": [
    "def expansion(expr):\n",
    "    return expr.subs(t, sy.pi - s + ε * X).series(x=ε, x0=0, n=order).expand()\n",
    "\n",
    "\n",
    "dist = (\n",
    "    sy.sqrt(2)\n",
    "    * sy.Abs(sy.sin((s - t) / 2))\n",
    "    * sy.sqrt(1 + ε ** 2 + (1 - ε ** 2) * sy.cos(s + t))\n",
    ")\n",
    "z_series = expansion(k * dist).subs(sy.cos(s) * sy.sign(sy.cos(s)), sy.Abs(sy.cos(s)))\n",
    "\n",
    "J1 = sy.besselj(1, z_series.expand().removeO())\n",
    "J1_series = J1.series(x=ε, x0=0, n=order)\n",
    "\n",
    "u_series = sum((ε * X) ** i * u_(sy.pi - s) for i, u_ in enumerate(u_term)) + sy.O(\n",
    "    ε ** order\n",
    ")\n",
    "log_term = sy.ln(1 + ε ** 2 + (1 - ε ** 2) * sy.cos(s + t))\n",
    "log_series = expansion(log_term)\n",
    "\n",
    "expr1 = (ε * z_series * u_series * J1_series * KL_series * log_series).expand()\n",
    "display(expr1)"
   ]
  },
  {
   "cell_type": "markdown",
   "metadata": {},
   "source": [
    "## Expansion of the kernel $K_2(s, \\pi - s + \\varepsilon X; \\varepsilon)u(s, \\pi - s + \\varepsilon X; \\varepsilon)\\varepsilon$\n",
    "In this case we expand the Hankel function of the first kind and first order using the NIST handbook of mathematical functions [https://dlmf.nist.gov/10.7]"
   ]
  },
  {
   "cell_type": "code",
   "execution_count": 14,
   "metadata": {},
   "outputs": [
    {
     "data": {
      "text/latex": [
       "$\\displaystyle - \\frac{\\varepsilon \\operatorname{u_{0}}{\\left(\\pi - s \\right)}}{\\pi X^{2} \\varepsilon + 4 \\pi \\varepsilon} - \\frac{X \\varepsilon^{2} \\operatorname{u_{1}}{\\left(\\pi - s \\right)}}{\\pi X^{2} \\varepsilon + 4 \\pi \\varepsilon} + \\frac{X \\varepsilon^{2} \\operatorname{u_{0}}{\\left(\\pi - s \\right)} \\sin{\\left(s \\right)} \\left|{\\cos{\\left(s \\right)}}\\right| \\operatorname{sign}{\\left(\\cos{\\left(s \\right)} \\right)}}{2 \\pi X^{2} \\varepsilon \\cos^{2}{\\left(s \\right)} + 8 \\pi \\varepsilon \\cos^{2}{\\left(s \\right)}} - \\frac{X \\varepsilon^{2} \\operatorname{u_{0}}{\\left(\\pi - s \\right)} \\sin{\\left(s \\right)} \\operatorname{sign}{\\left(\\cos{\\left(s \\right)} \\right)}}{2 \\pi X^{2} \\varepsilon \\left|{\\cos{\\left(s \\right)}}\\right| + 8 \\pi \\varepsilon \\left|{\\cos{\\left(s \\right)}}\\right|} + O\\left(\\varepsilon^{2}\\right)$"
      ],
      "text/plain": [
       "-varepsilon*u0(pi - s)/(pi*X**2*varepsilon + 4*pi*varepsilon) - X*varepsilon**2*u1(pi - s)/(pi*X**2*varepsilon + 4*pi*varepsilon) + X*varepsilon**2*u0(pi - s)*sin(s)*Abs(cos(s))*sign(cos(s))/(2*pi*X**2*varepsilon*cos(s)**2 + 8*pi*varepsilon*cos(s)**2) - X*varepsilon**2*u0(pi - s)*sin(s)*sign(cos(s))/(2*pi*X**2*varepsilon*Abs(cos(s)) + 8*pi*varepsilon*Abs(cos(s))) + O(varepsilon**2)"
      ]
     },
     "metadata": {},
     "output_type": "display_data"
    }
   ],
   "source": [
    "Y1approx = -2 / (sy.pi * z_series) + (2 / sy.pi) * sy.ln(z_series / 2) * J1_series\n",
    "Y1_series = Y1approx.series(x=ε, x0=0, n=order)\n",
    "\n",
    "expr2 = (\n",
    "    ε\n",
    "    * z_series\n",
    "    * u_series\n",
    "    * KL_series\n",
    "    * (J1_series * log_series + sy.I * sy.pi * J1_series - sy.pi * Y1_series)\n",
    "    / 2\n",
    ").expand()\n",
    "display(expr2)"
   ]
  },
  {
   "cell_type": "markdown",
   "metadata": {},
   "source": [
    "## Inner expansion $\\int_{-\\frac{\\delta}{2\\varepsilon}}^{\\frac{\\delta}{2\\varepsilon}} K_1(s, \\pi-s+\\varepsilon X; \\varepsilon)\\log (4 \\sin(\\frac{s-t}{2})^2) \\, u(\\pi - s + \\varepsilon X) \\varepsilon\\, \\mathrm{d}X$"
   ]
  },
  {
   "cell_type": "code",
   "execution_count": 15,
   "metadata": {},
   "outputs": [
    {
     "data": {
      "text/latex": [
       "$\\displaystyle O\\left(\\varepsilon^{2}\\right)$"
      ],
      "text/plain": [
       "O(varepsilon**2)"
      ]
     },
     "metadata": {},
     "output_type": "display_data"
    }
   ],
   "source": [
    "int_expr1 = sy.O(ε ** 2)\n",
    "for i in range(order):\n",
    "    expr1_term = expr1.coeff(ε, i)\n",
    "    for u_ in u_term:\n",
    "        expr1_term_u = expr1_term.coeff(u_(sy.pi - s), 1).factor()\n",
    "        int_term1 = sy.integrate(expr1_term_u, (X, -δ / (2 * ε), δ / (2 * ε))).expand()\n",
    "        int_expr1 += (int_term1 * u_(sy.pi - s) * ε ** i).factor().expand()\n",
    "\n",
    "display(int_expr1)"
   ]
  },
  {
   "cell_type": "markdown",
   "metadata": {},
   "source": [
    "## Inner expansion $\\int_{-\\frac{\\delta}{2\\varepsilon}}^{\\frac{\\delta}{2\\varepsilon}} K_2(s, \\pi-s+\\varepsilon X; \\varepsilon) u(\\pi - s + \\varepsilon X) \\varepsilon\\, \\mathrm{d}X$\n"
   ]
  },
  {
   "cell_type": "code",
   "execution_count": 16,
   "metadata": {},
   "outputs": [
    {
     "data": {
      "text/latex": [
       "$\\displaystyle - \\frac{\\operatorname{u_{0}}{\\left(\\pi - s \\right)} \\operatorname{atan}{\\left(\\frac{\\delta}{4 \\varepsilon} \\right)}}{\\pi} + O\\left(\\varepsilon^{2}\\right)$"
      ],
      "text/plain": [
       "-u0(pi - s)*atan(delta/(4*varepsilon))/pi + O(varepsilon**2)"
      ]
     },
     "metadata": {},
     "output_type": "display_data"
    }
   ],
   "source": [
    "int_expr2 = sy.O(ε ** 2)\n",
    "for i in range(order):\n",
    "    expr2_term = expr2.coeff(ε, i)\n",
    "    for u_ in u_term:\n",
    "        expr2_term_u = expr2_term.coeff(u_(sy.pi - s), 1).factor()\n",
    "        int_term2 = sy.integrate(expr2_term_u, (X, -δ / (2 * ε), δ / (2 * ε))).expand()\n",
    "        int_expr2 += (int_term2 * u_(sy.pi - s) * ε ** i).factor().expand()\n",
    "\n",
    "display(int_expr2)"
   ]
  }
 ],
 "metadata": {
  "kernelspec": {
   "display_name": "Python 3",
   "language": "python",
   "name": "python3"
  },
  "language_info": {
   "codemirror_mode": {
    "name": "ipython",
    "version": 3
   },
   "file_extension": ".py",
   "mimetype": "text/x-python",
   "name": "python",
   "nbconvert_exporter": "python",
   "pygments_lexer": "ipython3",
   "version": "3.8.6"
  }
 },
 "nbformat": 4,
 "nbformat_minor": 4
}
