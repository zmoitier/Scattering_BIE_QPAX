{
 "cells": [
  {
   "cell_type": "markdown",
   "metadata": {},
   "source": [
    "# Sympy code to compute the inner expansion\n",
    "\n",
    "### Zoïs Moitier (2021)\n",
    "            \n",
    "_Karlsruhe Institute of Technology, Germany_"
   ]
  },
  {
   "cell_type": "code",
   "execution_count": 1,
   "metadata": {},
   "outputs": [],
   "source": [
    "import sympy as sy\n",
    "from IPython.display import display"
   ]
  },
  {
   "cell_type": "code",
   "execution_count": 2,
   "metadata": {},
   "outputs": [],
   "source": [
    "order = 3  # order of the expansion"
   ]
  },
  {
   "cell_type": "code",
   "execution_count": 3,
   "metadata": {},
   "outputs": [],
   "source": [
    "ε, δ, h = sy.symbols(\"varepsilon delta h\", real=True, positive=True)\n",
    "s, t, X = sy.symbols(\"s t X\", real=True)\n",
    "μ_term = sy.symbols(f\"mu0:{order}\", cls=sy.Function)"
   ]
  },
  {
   "cell_type": "markdown",
   "metadata": {},
   "source": [
    "## The Laplace Kernel $K^L(s, t; \\varepsilon)$"
   ]
  },
  {
   "cell_type": "code",
   "execution_count": 4,
   "metadata": {},
   "outputs": [
    {
     "data": {
      "text/latex": [
       "$\\displaystyle - \\frac{\\varepsilon^{2}}{2 \\pi \\left(\\varepsilon^{2} + \\left(1 - \\varepsilon^{2}\\right) \\cos{\\left(s + t \\right)} + 1\\right)}$"
      ],
      "text/plain": [
       "-varepsilon**2/(2*pi*(varepsilon**2 + (1 - varepsilon**2)*cos(s + t) + 1))"
      ]
     },
     "metadata": {},
     "output_type": "display_data"
    }
   ],
   "source": [
    "εKL = -(ε ** 2) / (2 * sy.pi * (1 + ε ** 2 + (1 - ε ** 2) * sy.cos(s + t)))\n",
    "display(εKL)"
   ]
  },
  {
   "cell_type": "markdown",
   "metadata": {},
   "source": [
    "## Expansion of the kernel $K^L(s, \\pi - s + \\varepsilon X; \\varepsilon)$"
   ]
  },
  {
   "cell_type": "code",
   "execution_count": 5,
   "metadata": {},
   "outputs": [
    {
     "data": {
      "text/latex": [
       "$\\displaystyle - \\frac{1}{\\pi X^{2} + 4 \\pi} - \\frac{X^{2} \\varepsilon^{2}}{\\pi X^{4} + 8 \\pi X^{2} + 16 \\pi} - \\frac{X^{4} \\varepsilon^{2}}{12 \\pi X^{4} + 96 \\pi X^{2} + 192 \\pi} + O\\left(\\varepsilon^{3}\\right)$"
      ],
      "text/plain": [
       "-1/(pi*X**2 + 4*pi) - X**2*varepsilon**2/(pi*X**4 + 8*pi*X**2 + 16*pi) - X**4*varepsilon**2/(12*pi*X**4 + 96*pi*X**2 + 192*pi) + O(varepsilon**3)"
      ]
     },
     "metadata": {},
     "output_type": "display_data"
    }
   ],
   "source": [
    "εKL_series = εKL.subs(t, sy.pi - s + ε * X).series(x=ε, x0=0, n=order).expand()\n",
    "display(εKL_series)"
   ]
  },
  {
   "cell_type": "markdown",
   "metadata": {},
   "source": [
    "## Expansion of the function $\\mu(\\pi - s + \\varepsilon X)$"
   ]
  },
  {
   "cell_type": "code",
   "execution_count": 6,
   "metadata": {},
   "outputs": [
    {
     "data": {
      "text/latex": [
       "$\\displaystyle \\mu_{0}{\\left(\\pi - s \\right)} + X \\varepsilon \\mu_{1}{\\left(\\pi - s \\right)} + X^{2} \\varepsilon^{2} \\mu_{2}{\\left(\\pi - s \\right)} + O\\left(\\varepsilon^{3}\\right)$"
      ],
      "text/plain": [
       "mu0(pi - s) + X*varepsilon*mu1(pi - s) + X**2*varepsilon**2*mu2(pi - s) + O(varepsilon**3)"
      ]
     },
     "metadata": {},
     "output_type": "display_data"
    }
   ],
   "source": [
    "μ_series = sum((ε * X) ** i * μ_(sy.pi - s) for i, μ_ in enumerate(μ_term)) + sy.O(\n",
    "    ε ** order\n",
    ")\n",
    "display(μ_series)"
   ]
  },
  {
   "cell_type": "markdown",
   "metadata": {},
   "source": [
    "## Expansion of the integrand $K^L(s, \\pi-s+\\varepsilon X; \\varepsilon) \\, \\mu(\\pi - s + \\varepsilon X)$"
   ]
  },
  {
   "cell_type": "code",
   "execution_count": 7,
   "metadata": {},
   "outputs": [
    {
     "data": {
      "text/latex": [
       "$\\displaystyle - \\frac{\\mu_{0}{\\left(\\pi - s \\right)}}{\\pi X^{2} + 4 \\pi} - \\frac{X \\varepsilon \\mu_{1}{\\left(\\pi - s \\right)}}{\\pi X^{2} + 4 \\pi} - \\frac{X^{2} \\varepsilon^{2} \\mu_{2}{\\left(\\pi - s \\right)}}{\\pi X^{2} + 4 \\pi} - \\frac{X^{2} \\varepsilon^{2} \\mu_{0}{\\left(\\pi - s \\right)}}{\\pi X^{4} + 8 \\pi X^{2} + 16 \\pi} - \\frac{X^{4} \\varepsilon^{2} \\mu_{0}{\\left(\\pi - s \\right)}}{12 \\pi X^{4} + 96 \\pi X^{2} + 192 \\pi} + O\\left(\\varepsilon^{3}\\right)$"
      ],
      "text/plain": [
       "-mu0(pi - s)/(pi*X**2 + 4*pi) - X*varepsilon*mu1(pi - s)/(pi*X**2 + 4*pi) - X**2*varepsilon**2*mu2(pi - s)/(pi*X**2 + 4*pi) - X**2*varepsilon**2*mu0(pi - s)/(pi*X**4 + 8*pi*X**2 + 16*pi) - X**4*varepsilon**2*mu0(pi - s)/(12*pi*X**4 + 96*pi*X**2 + 192*pi) + O(varepsilon**3)"
      ]
     },
     "metadata": {},
     "output_type": "display_data"
    }
   ],
   "source": [
    "expr = (εKL_series * μ_series).expand()\n",
    "display(expr)"
   ]
  },
  {
   "cell_type": "markdown",
   "metadata": {},
   "source": [
    "## Inner expansion $\\int_{-\\frac{\\delta}{2\\varepsilon}}^{\\frac{\\delta}{2\\varepsilon}} K^L(s, \\pi-s+\\varepsilon X; \\varepsilon) \\, \\mu(\\pi - s + \\varepsilon X) \\, \\mathrm{d}X$"
   ]
  },
  {
   "cell_type": "code",
   "execution_count": 8,
   "metadata": {},
   "outputs": [
    {
     "data": {
      "text/latex": [
       "$\\displaystyle - \\frac{\\mu_{0}{\\left(\\pi - s \\right)} \\operatorname{atan}{\\left(\\frac{\\delta}{4 \\varepsilon} \\right)}}{\\pi} - \\frac{\\delta \\varepsilon \\mu_{2}{\\left(\\pi - s \\right)}}{\\pi} - \\frac{\\delta^{3} \\varepsilon \\mu_{0}{\\left(\\pi - s \\right)}}{12 \\pi \\delta^{2} + 192 \\pi \\varepsilon^{2}} + O\\left(\\varepsilon^{2}\\right)$"
      ],
      "text/plain": [
       "-mu0(pi - s)*atan(delta/(4*varepsilon))/pi - delta*varepsilon*mu2(pi - s)/pi - delta**3*varepsilon*mu0(pi - s)/(12*pi*delta**2 + 192*pi*varepsilon**2) + O(varepsilon**2)"
      ]
     },
     "metadata": {},
     "output_type": "display_data"
    }
   ],
   "source": [
    "int_expr = sy.O(ε ** 2)\n",
    "for i in range(order):\n",
    "    expr_term = expr.coeff(ε, i)\n",
    "    for u_ in μ_term:\n",
    "        expr_term_u = expr_term.coeff(u_(sy.pi - s), 1).factor()\n",
    "        int_term = sy.integrate(expr_term_u, (X, -δ / (2 * ε), δ / (2 * ε))).expand()\n",
    "        int_expr += (int_term * u_(sy.pi - s) * ε ** i).factor().expand()\n",
    "\n",
    "display(int_expr)"
   ]
  }
 ],
 "metadata": {
  "kernelspec": {
   "display_name": "Python 3",
   "language": "python",
   "name": "python3"
  },
  "language_info": {
   "codemirror_mode": {
    "name": "ipython",
    "version": 3
   },
   "file_extension": ".py",
   "mimetype": "text/x-python",
   "name": "python",
   "nbconvert_exporter": "python",
   "pygments_lexer": "ipython3",
   "version": "3.8.6"
  }
 },
 "nbformat": 4,
 "nbformat_minor": 4
}
